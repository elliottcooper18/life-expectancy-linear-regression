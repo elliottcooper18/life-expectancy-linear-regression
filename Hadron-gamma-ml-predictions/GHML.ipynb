{
 "cells": [
  {
   "cell_type": "code",
   "execution_count": 13,
   "id": "bcb2a76b",
   "metadata": {},
   "outputs": [
    {
     "data": {
      "text/html": [
       "<div>\n",
       "<style scoped>\n",
       "    .dataframe tbody tr th:only-of-type {\n",
       "        vertical-align: middle;\n",
       "    }\n",
       "\n",
       "    .dataframe tbody tr th {\n",
       "        vertical-align: top;\n",
       "    }\n",
       "\n",
       "    .dataframe thead th {\n",
       "        text-align: right;\n",
       "    }\n",
       "</style>\n",
       "<table border=\"1\" class=\"dataframe\">\n",
       "  <thead>\n",
       "    <tr style=\"text-align: right;\">\n",
       "      <th></th>\n",
       "      <th>fLength</th>\n",
       "      <th>fWidth</th>\n",
       "      <th>fSize</th>\n",
       "      <th>fConc</th>\n",
       "      <th>fConc1</th>\n",
       "      <th>fAsym</th>\n",
       "      <th>fM3Long</th>\n",
       "      <th>fM3Trans</th>\n",
       "      <th>fAlpha</th>\n",
       "      <th>fDist</th>\n",
       "      <th>Class</th>\n",
       "    </tr>\n",
       "  </thead>\n",
       "  <tbody>\n",
       "    <tr>\n",
       "      <th>0</th>\n",
       "      <td>28.7967</td>\n",
       "      <td>16.0021</td>\n",
       "      <td>2.6449</td>\n",
       "      <td>0.3918</td>\n",
       "      <td>0.1982</td>\n",
       "      <td>27.7004</td>\n",
       "      <td>22.0110</td>\n",
       "      <td>-8.2027</td>\n",
       "      <td>40.0920</td>\n",
       "      <td>81.8828</td>\n",
       "      <td>g</td>\n",
       "    </tr>\n",
       "    <tr>\n",
       "      <th>1</th>\n",
       "      <td>31.6036</td>\n",
       "      <td>11.7235</td>\n",
       "      <td>2.5185</td>\n",
       "      <td>0.5303</td>\n",
       "      <td>0.3773</td>\n",
       "      <td>26.2722</td>\n",
       "      <td>23.8238</td>\n",
       "      <td>-9.9574</td>\n",
       "      <td>6.3609</td>\n",
       "      <td>205.2610</td>\n",
       "      <td>g</td>\n",
       "    </tr>\n",
       "    <tr>\n",
       "      <th>2</th>\n",
       "      <td>162.0520</td>\n",
       "      <td>136.0310</td>\n",
       "      <td>4.0612</td>\n",
       "      <td>0.0374</td>\n",
       "      <td>0.0187</td>\n",
       "      <td>116.7410</td>\n",
       "      <td>-64.8580</td>\n",
       "      <td>-45.2160</td>\n",
       "      <td>76.9600</td>\n",
       "      <td>256.7880</td>\n",
       "      <td>g</td>\n",
       "    </tr>\n",
       "    <tr>\n",
       "      <th>3</th>\n",
       "      <td>23.8172</td>\n",
       "      <td>9.5728</td>\n",
       "      <td>2.3385</td>\n",
       "      <td>0.6147</td>\n",
       "      <td>0.3922</td>\n",
       "      <td>27.2107</td>\n",
       "      <td>-6.4633</td>\n",
       "      <td>-7.1513</td>\n",
       "      <td>10.4490</td>\n",
       "      <td>116.7370</td>\n",
       "      <td>g</td>\n",
       "    </tr>\n",
       "    <tr>\n",
       "      <th>4</th>\n",
       "      <td>75.1362</td>\n",
       "      <td>30.9205</td>\n",
       "      <td>3.1611</td>\n",
       "      <td>0.3168</td>\n",
       "      <td>0.1832</td>\n",
       "      <td>-5.5277</td>\n",
       "      <td>28.5525</td>\n",
       "      <td>21.8393</td>\n",
       "      <td>4.6480</td>\n",
       "      <td>356.4620</td>\n",
       "      <td>g</td>\n",
       "    </tr>\n",
       "  </tbody>\n",
       "</table>\n",
       "</div>"
      ],
      "text/plain": [
       "    fLength    fWidth   fSize   fConc  ...  fM3Trans   fAlpha     fDist  Class\n",
       "0   28.7967   16.0021  2.6449  0.3918  ...   -8.2027  40.0920   81.8828      g\n",
       "1   31.6036   11.7235  2.5185  0.5303  ...   -9.9574   6.3609  205.2610      g\n",
       "2  162.0520  136.0310  4.0612  0.0374  ...  -45.2160  76.9600  256.7880      g\n",
       "3   23.8172    9.5728  2.3385  0.6147  ...   -7.1513  10.4490  116.7370      g\n",
       "4   75.1362   30.9205  3.1611  0.3168  ...   21.8393   4.6480  356.4620      g\n",
       "\n",
       "[5 rows x 11 columns]"
      ]
     },
     "execution_count": 13,
     "metadata": {},
     "output_type": "execute_result"
    }
   ],
   "source": [
    "import pandas as pd\n",
    "import numpy as np\n",
    "from sklearn.preprocessing import StandardScaler #for scaling data\n",
    "from imblearn.over_sampling import RandomOverSampler\n",
    "\n",
    "cols = [\"fLength\", \"fWidth\", \"fSize\",\"fConc\",\"fConc1\", \"fAsym\", \"fM3Long\", \"fM3Trans\", \"fAlpha\", \"fDist\",\"Class\"]\n",
    "df = pd.read_csv(\"magic04.data\",names=cols) #Read the data from csv into a dataframe. Pass in cols such that easier to reference\n",
    "df.head() #Returns the first 5 rows in the dataframe\n"
   ]
  },
  {
   "cell_type": "markdown",
   "id": "4fa454c1",
   "metadata": {},
   "source": [
    "The next part allows us to use the 0s and 1s to predict if hadron or gamma\n",
    "\n",
    "So we convert all the types where class is the learning"
   ]
  },
  {
   "cell_type": "code",
   "execution_count": 14,
   "id": "d9cd83d6",
   "metadata": {},
   "outputs": [
    {
     "data": {
      "text/html": [
       "<div>\n",
       "<style scoped>\n",
       "    .dataframe tbody tr th:only-of-type {\n",
       "        vertical-align: middle;\n",
       "    }\n",
       "\n",
       "    .dataframe tbody tr th {\n",
       "        vertical-align: top;\n",
       "    }\n",
       "\n",
       "    .dataframe thead th {\n",
       "        text-align: right;\n",
       "    }\n",
       "</style>\n",
       "<table border=\"1\" class=\"dataframe\">\n",
       "  <thead>\n",
       "    <tr style=\"text-align: right;\">\n",
       "      <th></th>\n",
       "      <th>fLength</th>\n",
       "      <th>fWidth</th>\n",
       "      <th>fSize</th>\n",
       "      <th>fConc</th>\n",
       "      <th>fConc1</th>\n",
       "      <th>fAsym</th>\n",
       "      <th>fM3Long</th>\n",
       "      <th>fM3Trans</th>\n",
       "      <th>fAlpha</th>\n",
       "      <th>fDist</th>\n",
       "      <th>Class</th>\n",
       "    </tr>\n",
       "  </thead>\n",
       "  <tbody>\n",
       "    <tr>\n",
       "      <th>0</th>\n",
       "      <td>28.7967</td>\n",
       "      <td>16.0021</td>\n",
       "      <td>2.6449</td>\n",
       "      <td>0.3918</td>\n",
       "      <td>0.1982</td>\n",
       "      <td>27.7004</td>\n",
       "      <td>22.0110</td>\n",
       "      <td>-8.2027</td>\n",
       "      <td>40.0920</td>\n",
       "      <td>81.8828</td>\n",
       "      <td>1</td>\n",
       "    </tr>\n",
       "    <tr>\n",
       "      <th>1</th>\n",
       "      <td>31.6036</td>\n",
       "      <td>11.7235</td>\n",
       "      <td>2.5185</td>\n",
       "      <td>0.5303</td>\n",
       "      <td>0.3773</td>\n",
       "      <td>26.2722</td>\n",
       "      <td>23.8238</td>\n",
       "      <td>-9.9574</td>\n",
       "      <td>6.3609</td>\n",
       "      <td>205.2610</td>\n",
       "      <td>1</td>\n",
       "    </tr>\n",
       "    <tr>\n",
       "      <th>2</th>\n",
       "      <td>162.0520</td>\n",
       "      <td>136.0310</td>\n",
       "      <td>4.0612</td>\n",
       "      <td>0.0374</td>\n",
       "      <td>0.0187</td>\n",
       "      <td>116.7410</td>\n",
       "      <td>-64.8580</td>\n",
       "      <td>-45.2160</td>\n",
       "      <td>76.9600</td>\n",
       "      <td>256.7880</td>\n",
       "      <td>1</td>\n",
       "    </tr>\n",
       "    <tr>\n",
       "      <th>3</th>\n",
       "      <td>23.8172</td>\n",
       "      <td>9.5728</td>\n",
       "      <td>2.3385</td>\n",
       "      <td>0.6147</td>\n",
       "      <td>0.3922</td>\n",
       "      <td>27.2107</td>\n",
       "      <td>-6.4633</td>\n",
       "      <td>-7.1513</td>\n",
       "      <td>10.4490</td>\n",
       "      <td>116.7370</td>\n",
       "      <td>1</td>\n",
       "    </tr>\n",
       "    <tr>\n",
       "      <th>4</th>\n",
       "      <td>75.1362</td>\n",
       "      <td>30.9205</td>\n",
       "      <td>3.1611</td>\n",
       "      <td>0.3168</td>\n",
       "      <td>0.1832</td>\n",
       "      <td>-5.5277</td>\n",
       "      <td>28.5525</td>\n",
       "      <td>21.8393</td>\n",
       "      <td>4.6480</td>\n",
       "      <td>356.4620</td>\n",
       "      <td>1</td>\n",
       "    </tr>\n",
       "  </tbody>\n",
       "</table>\n",
       "</div>"
      ],
      "text/plain": [
       "    fLength    fWidth   fSize   fConc  ...  fM3Trans   fAlpha     fDist  Class\n",
       "0   28.7967   16.0021  2.6449  0.3918  ...   -8.2027  40.0920   81.8828      1\n",
       "1   31.6036   11.7235  2.5185  0.5303  ...   -9.9574   6.3609  205.2610      1\n",
       "2  162.0520  136.0310  4.0612  0.0374  ...  -45.2160  76.9600  256.7880      1\n",
       "3   23.8172    9.5728  2.3385  0.6147  ...   -7.1513  10.4490  116.7370      1\n",
       "4   75.1362   30.9205  3.1611  0.3168  ...   21.8393   4.6480  356.4620      1\n",
       "\n",
       "[5 rows x 11 columns]"
      ]
     },
     "execution_count": 14,
     "metadata": {},
     "output_type": "execute_result"
    }
   ],
   "source": [
    "df['Class'] = (df['Class'] == \"g\").astype(int)\n",
    "df.head()"
   ]
  },
  {
   "cell_type": "markdown",
   "id": "9f6706a8",
   "metadata": {},
   "source": [
    "## Split data into Train validate and test data "
   ]
  },
  {
   "cell_type": "code",
   "execution_count": 15,
   "id": "5fa306cf",
   "metadata": {},
   "outputs": [],
   "source": [
    "#Splitting the data up into train validate and test data\n",
    "#np.split used to split the data up such that train is the first 60%, validate is between 60 and 80 and test is the \n",
    "#remianing\n",
    "train, validate, test = np.split(df.sample(frac=1), [int(0.6 * len(df)), int(0.8 * len(df))])\n"
   ]
  },
  {
   "cell_type": "markdown",
   "id": "33d79966",
   "metadata": {},
   "source": [
    "### Need to scale the data such that it is easier for the model to lean what is going on"
   ]
  },
  {
   "cell_type": "code",
   "execution_count": 16,
   "id": "070f09ec",
   "metadata": {},
   "outputs": [],
   "source": [
    " def scale_dataset(dataFrame, oversample=False):\n",
    "        \n",
    "        x = dataFrame[dataFrame.columns[:-1]].values #get all the cols apart fromt the last one as your feature\n",
    "        y = dataFrame[dataFrame.columns[-1]].values #This is your \n",
    "        \n",
    "        scalar = StandardScaler()\n",
    "        x = scalar.fit_transform(x)\n",
    "        \n",
    "        \n",
    "        if oversample:\n",
    "            \n",
    "            ros = RandomOverSampler()\n",
    "            x, y = ros.fit_resample(x, y)\n",
    "        \n",
    "        \n",
    "        \n",
    "        data = np.hstack((x, np.reshape(y, (-1,1))))\n",
    "        \n",
    "        \n",
    "        return x, y, data\n",
    "    \n",
    "    \n",
    "\n",
    "        "
   ]
  },
  {
   "cell_type": "code",
   "execution_count": 17,
   "id": "d2ffa610",
   "metadata": {},
   "outputs": [],
   "source": [
    "#want to try and get the training data where its 0 and 1 approx the same\n",
    "\n",
    "x_train, y_train, train = scale_dataset(train, True)\n",
    "x_validate, y_validate, validate = scale_dataset(validate, False)\n",
    "x_test, y_test, test = scale_dataset(test, False)\n",
    "\n"
   ]
  },
  {
   "cell_type": "markdown",
   "id": "18b852bf",
   "metadata": {},
   "source": [
    "# KNN\n",
    "\n",
    "### Using the K nearest neighbour model we can plot "
   ]
  },
  {
   "cell_type": "code",
   "execution_count": 18,
   "id": "e5d5035c",
   "metadata": {},
   "outputs": [
    {
     "data": {
      "text/plain": [
       "array([1, 1, 0, ..., 0, 1, 1])"
      ]
     },
     "execution_count": 18,
     "metadata": {},
     "output_type": "execute_result"
    }
   ],
   "source": [
    "from sklearn.neighbors import KNeighborsClassifier\n",
    "from sklearn.metrics import classification_report # get the stats \n",
    "\n",
    "knn_model = KNeighborsClassifier(n_neighbors=2)\n",
    "\n",
    "knn_model.fit(x_train, y_train)\n",
    "\n",
    "y_pred = knn_model.predict(x_test)\n",
    "\n",
    "y_pred"
   ]
  },
  {
   "cell_type": "code",
   "execution_count": 19,
   "id": "a90e86ca",
   "metadata": {},
   "outputs": [
    {
     "data": {
      "text/plain": [
       "array([1, 1, 1, ..., 0, 0, 0])"
      ]
     },
     "execution_count": 19,
     "metadata": {},
     "output_type": "execute_result"
    }
   ],
   "source": [
    "y_train"
   ]
  },
  {
   "cell_type": "code",
   "execution_count": 20,
   "id": "f5ea2c39",
   "metadata": {},
   "outputs": [
    {
     "name": "stdout",
     "output_type": "stream",
     "text": [
      "              precision    recall  f1-score   support\n",
      "\n",
      "           0       0.70      0.78      0.74      1363\n",
      "           1       0.87      0.82      0.84      2441\n",
      "\n",
      "    accuracy                           0.80      3804\n",
      "   macro avg       0.79      0.80      0.79      3804\n",
      "weighted avg       0.81      0.80      0.81      3804\n",
      "\n"
     ]
    }
   ],
   "source": [
    "print(classification_report(y_test, y_pred))"
   ]
  },
  {
   "cell_type": "markdown",
   "id": "22c406cf",
   "metadata": {},
   "source": [
    " # Logistical regression \n",
    " \n",
    " ### We can use logistical regression to predict a binary event occuring -> Such as predicting between hadron and gamma particles"
   ]
  },
  {
   "cell_type": "code",
   "execution_count": 21,
   "id": "234deeaf",
   "metadata": {},
   "outputs": [],
   "source": [
    "from sklearn.linear_model import LogisticRegression"
   ]
  },
  {
   "cell_type": "code",
   "execution_count": 22,
   "id": "fa091e86",
   "metadata": {},
   "outputs": [
    {
     "name": "stdout",
     "output_type": "stream",
     "text": [
      "              precision    recall  f1-score   support\n",
      "\n",
      "           0       0.68      0.71      0.70      1363\n",
      "           1       0.84      0.82      0.83      2441\n",
      "\n",
      "    accuracy                           0.78      3804\n",
      "   macro avg       0.76      0.76      0.76      3804\n",
      "weighted avg       0.78      0.78      0.78      3804\n",
      "\n"
     ]
    }
   ],
   "source": [
    "lg_model = LogisticRegression()\n",
    "lg_model = lg_model.fit(x_train, y_train) # split the data between the feature vector and the label and create the model\n",
    "\n",
    "y_pred = lg_model.predict(x_test) # Use the model on the training data\n",
    "print(classification_report(y_test,y_pred)) #print classification report"
   ]
  },
  {
   "cell_type": "markdown",
   "id": "de609cf0",
   "metadata": {},
   "source": [
    "# Naive bayes model\n",
    "### We can use probability to find the most likely result"
   ]
  },
  {
   "cell_type": "code",
   "execution_count": 23,
   "id": "36371634",
   "metadata": {},
   "outputs": [],
   "source": [
    "from sklearn.naive_bayes import GaussianNB"
   ]
  },
  {
   "cell_type": "code",
   "execution_count": 24,
   "id": "70769e9f",
   "metadata": {},
   "outputs": [],
   "source": [
    "nb_model = GaussianNB()\n",
    "nb_model = nb_model.fit(x_train, y_train)"
   ]
  },
  {
   "cell_type": "code",
   "execution_count": 25,
   "id": "78313115",
   "metadata": {},
   "outputs": [
    {
     "name": "stdout",
     "output_type": "stream",
     "text": [
      "              precision    recall  f1-score   support\n",
      "\n",
      "           0       0.69      0.39      0.50      1363\n",
      "           1       0.73      0.90      0.81      2441\n",
      "\n",
      "    accuracy                           0.72      3804\n",
      "   macro avg       0.71      0.65      0.65      3804\n",
      "weighted avg       0.71      0.72      0.70      3804\n",
      "\n"
     ]
    }
   ],
   "source": [
    "y_pred = nb_model.predict(x_test)\n",
    "print(classification_report(y_test, y_pred))"
   ]
  },
  {
   "cell_type": "markdown",
   "id": "6d68cf1f",
   "metadata": {},
   "source": [
    "\n"
   ]
  },
  {
   "cell_type": "markdown",
   "id": "704b4ecb",
   "metadata": {},
   "source": [
    "# Neural network model"
   ]
  },
  {
   "cell_type": "code",
   "execution_count": 52,
   "id": "c4ea9533",
   "metadata": {},
   "outputs": [],
   "source": [
    "import tensorflow as tf\n",
    "from matplotlib import pyplot as plt"
   ]
  },
  {
   "cell_type": "code",
   "execution_count": 69,
   "id": "7d962921",
   "metadata": {},
   "outputs": [],
   "source": [
    "def plot_accuracy(history):\n",
    "    \n",
    "    plt.plot(history.history['Accuracy'], label = 'accuracy')\n",
    "    plt.title('model accuracy')\n",
    "    plt.ylabel('accuracy')\n",
    "    plt.xlabel('epoch')\n",
    "    plt.legend()\n",
    "    plt.grid(True)\n",
    "    plt.show()\n",
    "    \n",
    "def plot_loss(history):\n",
    "    \n",
    "    plt.plot(history.history['loss'])\n",
    "    plt.plot(history.history['val_loss'])\n",
    "    plt.title('model loss')\n",
    "    plt.ylabel('loss')\n",
    "    plt.xlabel('epoch')\n",
    "    plt.legend(['train', 'val'], loc='upper left')\n",
    "    plt.show()\n",
    "    "
   ]
  },
  {
   "cell_type": "code",
   "execution_count": 71,
   "id": "b8cc4bae",
   "metadata": {},
   "outputs": [],
   "source": [
    "nn_model = tf.keras.Sequential([\n",
    "    \n",
    "    tf.keras.layers.Dense(64, activation ='relu', input_shape = (10,)),\n",
    "    tf.keras.layers.Dense(32, activation='relu'),\n",
    "    tf.keras.layers.Dense(1, activation = 'sigmoid') #by having a sigmoid on the last layer, it allows you to convert to 0.,1\n",
    "])\n",
    "\n",
    "nn_model.compile(optimizer = tf.keras.optimizers.Adam(0.001), loss = 'binary_crossentropy', metrics =['Accuracy'])"
   ]
  },
  {
   "cell_type": "code",
   "execution_count": 72,
   "id": "dee462a6",
   "metadata": {},
   "outputs": [
    {
     "name": "stdout",
     "output_type": "stream",
     "text": [
      "Epoch 1/200\n",
      "Epoch 2/200\n",
      "Epoch 3/200\n",
      "Epoch 4/200\n",
      "Epoch 5/200\n",
      "Epoch 6/200\n",
      "Epoch 7/200\n",
      "Epoch 8/200\n",
      "Epoch 9/200\n",
      "Epoch 10/200\n",
      "Epoch 11/200\n",
      "Epoch 12/200\n",
      "Epoch 13/200\n",
      "Epoch 14/200\n",
      "Epoch 15/200\n",
      "Epoch 16/200\n",
      "Epoch 17/200\n",
      "Epoch 18/200\n",
      "Epoch 19/200\n",
      "Epoch 20/200\n",
      "Epoch 21/200\n",
      "Epoch 22/200\n",
      "Epoch 23/200\n",
      "Epoch 24/200\n",
      "Epoch 25/200\n",
      "Epoch 26/200\n",
      "Epoch 27/200\n",
      "Epoch 28/200\n",
      "Epoch 29/200\n",
      "Epoch 30/200\n",
      "Epoch 31/200\n",
      "Epoch 32/200\n",
      "Epoch 33/200\n",
      "Epoch 34/200\n",
      "Epoch 35/200\n",
      "Epoch 36/200\n",
      "Epoch 37/200\n",
      "Epoch 38/200\n",
      "Epoch 39/200\n",
      "Epoch 40/200\n",
      "Epoch 41/200\n",
      "Epoch 42/200\n",
      "Epoch 43/200\n",
      "Epoch 44/200\n",
      "Epoch 45/200\n",
      "Epoch 46/200\n",
      "Epoch 47/200\n",
      "Epoch 48/200\n",
      "Epoch 49/200\n",
      "Epoch 50/200\n",
      "Epoch 51/200\n",
      "Epoch 52/200\n",
      "Epoch 53/200\n",
      "Epoch 54/200\n",
      "Epoch 55/200\n",
      "Epoch 56/200\n",
      "Epoch 57/200\n",
      "Epoch 58/200\n",
      "Epoch 59/200\n",
      "Epoch 60/200\n",
      "Epoch 61/200\n",
      "Epoch 62/200\n",
      "Epoch 63/200\n",
      "Epoch 64/200\n",
      "Epoch 65/200\n",
      "Epoch 66/200\n",
      "Epoch 67/200\n",
      "Epoch 68/200\n",
      "Epoch 69/200\n",
      "Epoch 70/200\n",
      "Epoch 71/200\n",
      "Epoch 72/200\n",
      "Epoch 73/200\n",
      "Epoch 74/200\n",
      "Epoch 75/200\n",
      "Epoch 76/200\n",
      "Epoch 77/200\n",
      "Epoch 78/200\n",
      "Epoch 79/200\n",
      "Epoch 80/200\n",
      "Epoch 81/200\n",
      "Epoch 82/200\n",
      "Epoch 83/200\n",
      "Epoch 84/200\n",
      "Epoch 85/200\n",
      "Epoch 86/200\n",
      "Epoch 87/200\n",
      "Epoch 88/200\n",
      "Epoch 89/200\n",
      "Epoch 90/200\n",
      "Epoch 91/200\n",
      "Epoch 92/200\n",
      "Epoch 93/200\n",
      "Epoch 94/200\n",
      "Epoch 95/200\n",
      "Epoch 96/200\n",
      "Epoch 97/200\n",
      "Epoch 98/200\n",
      "Epoch 99/200\n",
      "Epoch 100/200\n",
      "Epoch 101/200\n",
      "Epoch 102/200\n",
      "Epoch 103/200\n",
      "Epoch 104/200\n",
      "Epoch 105/200\n",
      "Epoch 106/200\n",
      "Epoch 107/200\n",
      "Epoch 108/200\n",
      "Epoch 109/200\n",
      "Epoch 110/200\n",
      "Epoch 111/200\n",
      "Epoch 112/200\n",
      "Epoch 113/200\n",
      "Epoch 114/200\n",
      "Epoch 115/200\n",
      "Epoch 116/200\n",
      "Epoch 117/200\n",
      "Epoch 118/200\n",
      "Epoch 119/200\n",
      "Epoch 120/200\n",
      "Epoch 121/200\n",
      "Epoch 122/200\n",
      "Epoch 123/200\n",
      "Epoch 124/200\n",
      "Epoch 125/200\n",
      "Epoch 126/200\n",
      "Epoch 127/200\n",
      "Epoch 128/200\n",
      "Epoch 129/200\n",
      "Epoch 130/200\n",
      "Epoch 131/200\n",
      "Epoch 132/200\n",
      "Epoch 133/200\n",
      "Epoch 134/200\n",
      "Epoch 135/200\n",
      "Epoch 136/200\n",
      "Epoch 137/200\n",
      "Epoch 138/200\n",
      "Epoch 139/200\n",
      "Epoch 140/200\n",
      "Epoch 141/200\n",
      "Epoch 142/200\n",
      "Epoch 143/200\n",
      "Epoch 144/200\n",
      "Epoch 145/200\n",
      "Epoch 146/200\n",
      "Epoch 147/200\n",
      "Epoch 148/200\n",
      "Epoch 149/200\n",
      "Epoch 150/200\n",
      "Epoch 151/200\n",
      "Epoch 152/200\n",
      "Epoch 153/200\n",
      "Epoch 154/200\n",
      "Epoch 155/200\n",
      "Epoch 156/200\n",
      "Epoch 157/200\n",
      "Epoch 158/200\n",
      "Epoch 159/200\n",
      "Epoch 160/200\n",
      "Epoch 161/200\n",
      "Epoch 162/200\n",
      "Epoch 163/200\n",
      "Epoch 164/200\n",
      "Epoch 165/200\n",
      "Epoch 166/200\n",
      "Epoch 167/200\n",
      "Epoch 168/200\n",
      "Epoch 169/200\n",
      "Epoch 170/200\n",
      "Epoch 171/200\n",
      "Epoch 172/200\n",
      "Epoch 173/200\n",
      "Epoch 174/200\n",
      "Epoch 175/200\n",
      "Epoch 176/200\n",
      "Epoch 177/200\n",
      "Epoch 178/200\n",
      "Epoch 179/200\n",
      "Epoch 180/200\n",
      "Epoch 181/200\n",
      "Epoch 182/200\n",
      "Epoch 183/200\n",
      "Epoch 184/200\n",
      "Epoch 185/200\n",
      "Epoch 186/200\n",
      "Epoch 187/200\n",
      "Epoch 188/200\n",
      "Epoch 189/200\n",
      "Epoch 190/200\n",
      "Epoch 191/200\n",
      "Epoch 192/200\n",
      "Epoch 193/200\n",
      "Epoch 194/200\n",
      "Epoch 195/200\n",
      "Epoch 196/200\n",
      "Epoch 197/200\n",
      "Epoch 198/200\n",
      "Epoch 199/200\n",
      "Epoch 200/200\n"
     ]
    }
   ],
   "source": [
    " history = nn_model.fit(x_train, y_train, epochs=200, batch_size = 32, validation_split=0.2, verbose =0.2)"
   ]
  },
  {
   "cell_type": "code",
   "execution_count": 73,
   "id": "97e97cd5",
   "metadata": {},
   "outputs": [
    {
     "data": {
      "image/png": "[encoded data removed]",
      "text/plain": [
       "<Figure size 640x480 with 1 Axes>"
      ]
     },
     "metadata": {},
     "output_type": "display_data"
    },
    {
     "data": {
      "image/png": "[encoded data removed]",
      "text/plain": [
       "<Figure size 640x480 with 1 Axes>"
      ]
     },
     "metadata": {},
     "output_type": "display_data"
    }
   ],
   "source": [
    "plot_loss(history)\n",
    "plot_accuracy(history)"
   ]
  },
  {
   "cell_type": "code",
   "execution_count": 94,
   "id": "17ead828",
   "metadata": {},
   "outputs": [
    {
     "name": "stdout",
     "output_type": "stream",
     "text": [
      "1/1 [==============================] - 0s 20ms/step - loss: 6.5083e-04 - Accuracy: 1.0000\n"
     ]
    },
    {
     "data": {
      "text/plain": [
       "[0.0006508344667963684, 1.0]"
      ]
     },
     "execution_count": 94,
     "metadata": {},
     "output_type": "execute_result"
    }
   ],
   "source": [
    "nn_model.evaluate(x_test[[7]], y_test[[7]])"
   ]
  },
  {
   "cell_type": "code",
   "execution_count": null,
   "id": "6e9a1e95",
   "metadata": {},
   "outputs": [],
   "source": []
  }
 ],
 "metadata": {
  "kernelspec": {
   "display_name": "Python 3 (ipykernel)",
   "language": "python",
   "name": "python3"
  },
  "language_info": {
   "codemirror_mode": {
    "name": "ipython",
    "version": 3
   },
   "file_extension": ".py",
   "mimetype": "text/x-python",
   "name": "python",
   "nbconvert_exporter": "python",
   "pygments_lexer": "ipython3",
   "version": "3.9.13"
  }
 },
 "nbformat": 4,
 "nbformat_minor": 5
}
